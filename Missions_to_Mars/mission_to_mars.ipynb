{
 "cells": [
  {
   "cell_type": "markdown",
   "id": "edf2337b",
   "metadata": {},
   "source": [
    "# Web Scraping - Mission to Mars  👩🏻‍🚀"
   ]
  },
  {
   "cell_type": "code",
   "execution_count": 1,
   "id": "2a917aef",
   "metadata": {},
   "outputs": [],
   "source": [
    "# Dependencies\n",
    "from splinter import Browser\n",
    "from bs4 import BeautifulSoup as bs\n",
    "import pandas as pd"
   ]
  },
  {
   "cell_type": "code",
   "execution_count": 2,
   "id": "807dd9df",
   "metadata": {},
   "outputs": [
    {
     "name": "stderr",
     "output_type": "stream",
     "text": [
      "\n",
      "\n",
      "====== WebDriver manager ======\n",
      "Current google-chrome version is 96.0.4664\n",
      "Get LATEST chromedriver version for 96.0.4664 google-chrome\n",
      "Driver [C:\\Users\\Yingying Li\\.wdm\\drivers\\chromedriver\\win32\\96.0.4664.45\\chromedriver.exe] found in cache\n"
     ]
    }
   ],
   "source": [
    "# Import Splinter and set the chromedriver path\n",
    "from webdriver_manager.chrome import ChromeDriverManager\n",
    "executable_path = {'executable_path': ChromeDriverManager().install()}\n",
    "browser = Browser('chrome', **executable_path, headless=False)"
   ]
  },
  {
   "cell_type": "markdown",
   "id": "d56f5a31",
   "metadata": {},
   "source": [
    "## 🚀 NASA Mars News 🚀"
   ]
  },
  {
   "cell_type": "markdown",
   "id": "9c5a489b",
   "metadata": {},
   "source": [
    "Scrape the Mars News Site and collect the latest News Title and Paragraph Text. "
   ]
  },
  {
   "cell_type": "code",
   "execution_count": 3,
   "id": "2d9b2216",
   "metadata": {},
   "outputs": [
    {
     "name": "stdout",
     "output_type": "stream",
     "text": [
      "All About the Laser (and Microphone) Atop Mars 2020, NASA's Next Rover\n",
      "------------------------------------------------------\n",
      "SuperCam is a rock-vaporizing instrument that will help scientists hunt for Mars fossils.\n"
     ]
    }
   ],
   "source": [
    "# Save NASA MARS URL and visit the page\n",
    "url = 'https://redplanetscience.com/'\n",
    "browser.visit(url)\n",
    "\n",
    "# Create BeautifulSoup object; parse with 'html.parser'\n",
    "html = browser.html\n",
    "soup = bs(html, \"html.parser\")\n",
    "\n",
    "# Retrieve the latest news title and article\n",
    "news_title = soup.find('div', class_='content_title').text\n",
    "news_p = soup.find('div', class_='article_teaser_body').text\n",
    "\n",
    "# Print title and paragraph\n",
    "print(news_title)\n",
    "print('------------------------------------------------------')\n",
    "print(news_p)"
   ]
  },
  {
   "cell_type": "markdown",
   "id": "7ed803b0",
   "metadata": {},
   "source": [
    "## JPL Mars Space Images - Featured Image 🌑"
   ]
  },
  {
   "cell_type": "markdown",
   "id": "cedbcfc9",
   "metadata": {},
   "source": [
    "Visit the url for the Featured Space Image site and retrieve the full sive image URL. "
   ]
  },
  {
   "cell_type": "code",
   "execution_count": 4,
   "id": "0be361aa",
   "metadata": {},
   "outputs": [
    {
     "data": {
      "text/plain": [
       "'https://spaceimages-mars.com/image/featured/mars3.jpg'"
      ]
     },
     "execution_count": 4,
     "metadata": {},
     "output_type": "execute_result"
    }
   ],
   "source": [
    "# Save FEATURED SPACE IMAGE URL and visit the page\n",
    "url = 'https://spaceimages-mars.com/'  \n",
    "browser.visit(url)\n",
    "\n",
    "# Design an XPATH selector to grab the featured image\n",
    "xpath = '/html/body/div[1]/img'\n",
    "\n",
    "# Use splinter to Click the featured image \n",
    "# to bring up the full resolution image\n",
    "results = browser.find_by_xpath(xpath)\n",
    "img = results[0]\n",
    "img.click()\n",
    "\n",
    "# Create BeautifulSoup object; parse with 'html.parser'\n",
    "html = browser.html\n",
    "soup = bs(html, \"html.parser\")\n",
    "image_url = soup.find(\"img\", class_=\"headerimage fade-in\")[\"src\"]\n",
    "image_url\n",
    "\n",
    "# Concatenate URL with image_url\n",
    "featured_image_url = url + image_url\n",
    "featured_image_url"
   ]
  },
  {
   "cell_type": "markdown",
   "id": "d479bcdc",
   "metadata": {},
   "source": [
    "### Bonus: Because I like pictures.  💥"
   ]
  },
  {
   "cell_type": "code",
   "execution_count": 5,
   "id": "56c8f3c0",
   "metadata": {},
   "outputs": [
    {
     "data": {
      "text/html": [
       "<img src=\"img.png\"/>"
      ],
      "text/plain": [
       "<IPython.core.display.Image object>"
      ]
     },
     "execution_count": 5,
     "metadata": {},
     "output_type": "execute_result"
    }
   ],
   "source": [
    "# Use the requests library to download and save the image from the `featured_image_url` above\n",
    "import requests\n",
    "import shutil\n",
    "response = requests.get(featured_image_url, stream=True)\n",
    "with open('img.png', 'wb') as out_file:\n",
    "    shutil.copyfileobj(response.raw, out_file)\n",
    "    \n",
    "# Display the image with IPython.display\n",
    "from IPython.display import Image\n",
    "Image(url='img.png')"
   ]
  },
  {
   "cell_type": "markdown",
   "id": "e37d1dcd",
   "metadata": {},
   "source": [
    "## Mars Facts 🛰"
   ]
  },
  {
   "cell_type": "markdown",
   "id": "5e27db34",
   "metadata": {},
   "source": [
    "Visit the Mars Facts webpage, use Pandas to scrape the table containing facts about the planet including Diameter, Mass, etc, and convert it back to an HTML format."
   ]
  },
  {
   "cell_type": "code",
   "execution_count": 6,
   "id": "e7dd98ed",
   "metadata": {},
   "outputs": [
    {
     "data": {
      "text/html": [
       "<div>\n",
       "<style scoped>\n",
       "    .dataframe tbody tr th:only-of-type {\n",
       "        vertical-align: middle;\n",
       "    }\n",
       "\n",
       "    .dataframe tbody tr th {\n",
       "        vertical-align: top;\n",
       "    }\n",
       "\n",
       "    .dataframe thead th {\n",
       "        text-align: right;\n",
       "    }\n",
       "</style>\n",
       "<table border=\"1\" class=\"dataframe\">\n",
       "  <thead>\n",
       "    <tr style=\"text-align: right;\">\n",
       "      <th></th>\n",
       "      <th>Mars</th>\n",
       "    </tr>\n",
       "    <tr>\n",
       "      <th>Description</th>\n",
       "      <th></th>\n",
       "    </tr>\n",
       "  </thead>\n",
       "  <tbody>\n",
       "    <tr>\n",
       "      <th>Equatorial Diameter:</th>\n",
       "      <td>6,792 km</td>\n",
       "    </tr>\n",
       "    <tr>\n",
       "      <th>Polar Diameter:</th>\n",
       "      <td>6,752 km</td>\n",
       "    </tr>\n",
       "    <tr>\n",
       "      <th>Mass:</th>\n",
       "      <td>6.39 × 10^23 kg (0.11 Earths)</td>\n",
       "    </tr>\n",
       "    <tr>\n",
       "      <th>Moons:</th>\n",
       "      <td>2 ( Phobos &amp; Deimos )</td>\n",
       "    </tr>\n",
       "    <tr>\n",
       "      <th>Orbit Distance:</th>\n",
       "      <td>227,943,824 km (1.38 AU)</td>\n",
       "    </tr>\n",
       "    <tr>\n",
       "      <th>Orbit Period:</th>\n",
       "      <td>687 days (1.9 years)</td>\n",
       "    </tr>\n",
       "    <tr>\n",
       "      <th>Surface Temperature:</th>\n",
       "      <td>-87 to -5 °C</td>\n",
       "    </tr>\n",
       "    <tr>\n",
       "      <th>First Record:</th>\n",
       "      <td>2nd millennium BC</td>\n",
       "    </tr>\n",
       "    <tr>\n",
       "      <th>Recorded By:</th>\n",
       "      <td>Egyptian astronomers</td>\n",
       "    </tr>\n",
       "  </tbody>\n",
       "</table>\n",
       "</div>"
      ],
      "text/plain": [
       "                                               Mars\n",
       "Description                                        \n",
       "Equatorial Diameter:                       6,792 km\n",
       "Polar Diameter:                            6,752 km\n",
       "Mass:                 6.39 × 10^23 kg (0.11 Earths)\n",
       "Moons:                        2 ( Phobos & Deimos )\n",
       "Orbit Distance:            227,943,824 km (1.38 AU)\n",
       "Orbit Period:                  687 days (1.9 years)\n",
       "Surface Temperature:                   -87 to -5 °C\n",
       "First Record:                     2nd millennium BC\n",
       "Recorded By:                   Egyptian astronomers"
      ]
     },
     "execution_count": 6,
     "metadata": {},
     "output_type": "execute_result"
    }
   ],
   "source": [
    "# Save MARS FACTS URL and visit the page\n",
    "url = 'https://galaxyfacts-mars.com/'\n",
    "\n",
    "#Extract the Facts Table from the URL using pandas\n",
    "tables=pd.read_html(url)\n",
    "df=tables[1]\n",
    "df.columns = ['Description', 'Mars']\n",
    "df.set_index('Description', inplace=True)\n",
    "df"
   ]
  },
  {
   "cell_type": "code",
   "execution_count": 7,
   "id": "ae7a1e46",
   "metadata": {},
   "outputs": [],
   "source": [
    "# Convert Data back to HTML\n",
    "html_table = df.to_html(classes = 'table table-striped th-align-left table-bordered')\n",
    "# print(html_table)"
   ]
  },
  {
   "cell_type": "markdown",
   "id": "fc09aea2",
   "metadata": {},
   "source": [
    "## Mars Hemispheres 👽"
   ]
  },
  {
   "cell_type": "markdown",
   "id": "025024a3",
   "metadata": {},
   "source": [
    "* Visit MARS HEMISPHERE URL to obtain high resolution images for each of Mar's hemispheres with their names."
   ]
  },
  {
   "cell_type": "code",
   "execution_count": 8,
   "id": "66c76fa2",
   "metadata": {},
   "outputs": [
    {
     "name": "stdout",
     "output_type": "stream",
     "text": [
      "[{'title': 'Cerberus Hemisphere ', 'image_url': 'https://marshemispheres.com/images/full.jpg'}, {'title': 'Schiaparelli Hemisphere ', 'image_url': 'https://marshemispheres.com/images/schiaparelli_enhanced-full.jpg'}, {'title': 'Syrtis Major Hemisphere ', 'image_url': 'https://marshemispheres.com/images/syrtis_major_enhanced-full.jpg'}, {'title': 'Valles Marineris Hemisphere ', 'image_url': 'https://marshemispheres.com/images/valles_marineris_enhanced-full.jpg'}]\n"
     ]
    }
   ],
   "source": [
    "# Visit USGS webpage for Mars hemispehere images\n",
    "url = \"https://marshemispheres.com/\"\n",
    "browser.visit(url)\n",
    "html = browser.html\n",
    "\n",
    "# Parse HTML with Beautiful Soup\n",
    "soup = bs(html, \"html.parser\")\n",
    "\n",
    "# Create dictionary to store titles & links to images\n",
    "image_urls = []\n",
    "\n",
    "# Retrieve all elements that contain image information\n",
    "results = soup.find(\"div\", class_ = \"collapsible results\" )\n",
    "pics = results.find_all(\"div\", class_=\"item\")\n",
    "\n",
    "# Iterate through each image\n",
    "for pic in pics:\n",
    "    \n",
    "    # Scrape the titles\n",
    "    title = pic.find(\"h3\").text\n",
    "    \n",
    "    # Clean title so I only have the name of the hemishpere\n",
    "    title = title.replace(\"Enhanced\", \"\")\n",
    "    \n",
    "    # Go the pic links\n",
    "    link = pic.find(\"a\")[\"href\"]\n",
    "    pic_link = url + link    \n",
    "    browser.visit(pic_link)\n",
    "    \n",
    "    # Parse link HTMLs with Beautiful Soup\n",
    "    html = browser.html\n",
    "    soup = bs(html, \"html.parser\")\n",
    "    \n",
    "    # Scrape the full size images\n",
    "    downloads = soup.find(\"div\", class_=\"downloads\")\n",
    "    pic_url = downloads.find(\"a\")[\"href\"]\n",
    "    \n",
    "    # Add URLs and Titles for the full size images to image_urls\n",
    "    image_urls.append({\"title\": title, \"image_url\": url + pic_url})\n",
    "\n",
    "# Print image title and url\n",
    "print(image_urls)"
   ]
  }
 ],
 "metadata": {
  "interpreter": {
   "hash": "b4b880821d65060c8e4298c7cb03d26338c65489e1f2661ffae60500bf4444f8"
  },
  "kernelspec": {
   "display_name": "Python 3",
   "language": "python",
   "name": "python3"
  },
  "language_info": {
   "codemirror_mode": {
    "name": "ipython",
    "version": 3
   },
   "file_extension": ".py",
   "mimetype": "text/x-python",
   "name": "python",
   "nbconvert_exporter": "python",
   "pygments_lexer": "ipython3",
   "version": "3.8.8"
  }
 },
 "nbformat": 4,
 "nbformat_minor": 5
}
